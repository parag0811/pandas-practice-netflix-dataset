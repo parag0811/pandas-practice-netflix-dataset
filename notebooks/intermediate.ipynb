{
 "cells": [
  {
   "cell_type": "code",
   "execution_count": 27,
   "id": "12631b11",
   "metadata": {},
   "outputs": [],
   "source": [
    "import pandas as pd \n",
    "df = pd.read_csv('../data/netflix_titles.csv')"
   ]
  },
  {
   "cell_type": "markdown",
   "id": "680c4121",
   "metadata": {},
   "source": [
    "## Intermediate"
   ]
  },
  {
   "cell_type": "code",
   "execution_count": 44,
   "id": "055d41f0",
   "metadata": {},
   "outputs": [
    {
     "data": {
      "text/plain": [
       "listed_in\n",
       "International Movies            2752\n",
       "Dramas                          2427\n",
       "Comedies                        1674\n",
       "International TV Shows          1351\n",
       "Documentaries                    869\n",
       "Action & Adventure               859\n",
       "TV Dramas                        763\n",
       "Independent Movies               756\n",
       "Children & Family Movies         641\n",
       "Romantic Movies                  616\n",
       "TV Comedies                      581\n",
       "Thrillers                        577\n",
       "Crime TV Shows                   470\n",
       "Kids' TV                         451\n",
       "Docuseries                       395\n",
       "Music & Musicals                 375\n",
       "Romantic TV Shows                370\n",
       "Horror Movies                    357\n",
       "Stand-Up Comedy                  343\n",
       "Reality TV                       255\n",
       "British TV Shows                 253\n",
       "Sci-Fi & Fantasy                 243\n",
       "Sports Movies                    219\n",
       "Anime Series                     176\n",
       "Spanish-Language TV Shows        174\n",
       "TV Action & Adventure            168\n",
       "Korean TV Shows                  151\n",
       "Classic Movies                   116\n",
       "LGBTQ Movies                     102\n",
       "TV Mysteries                      98\n",
       "Science & Nature TV               92\n",
       "TV Sci-Fi & Fantasy               84\n",
       "TV Horror                         75\n",
       "Cult Movies                       71\n",
       "Anime Features                    71\n",
       "Teen TV Shows                     69\n",
       "Faith & Spirituality              65\n",
       "TV Thrillers                      57\n",
       "Movies                            57\n",
       "Stand-Up Comedy & Talk Shows      56\n",
       "Classic & Cult TV                 28\n",
       "TV Shows                          16\n",
       "Name: count, dtype: int64"
      ]
     },
     "execution_count": 44,
     "metadata": {},
     "output_type": "execute_result"
    }
   ],
   "source": [
    "# Most common genres (split and count) \n",
    "df.head()\n",
    "df_genre = df.copy()\n",
    "genre = df_genre['listed_in'].str.split(', ')\n",
    "all_genres = genre.explode()\n",
    "genre_counts_total = all_genres.value_counts()\n",
    "genre_counts_total"
   ]
  },
  {
   "cell_type": "code",
   "execution_count": 40,
   "id": "00d3dc14",
   "metadata": {},
   "outputs": [
    {
     "data": {
      "text/plain": [
       "<bound method NDFrame.head of director\n",
       "Rajiv Chilaka             19\n",
       "Raúl Campos, Jan Suter    18\n",
       "Suhas Kadav               16\n",
       "Marcus Raboy              15\n",
       "Jay Karas                 14\n",
       "Cathy Garcia-Molina       13\n",
       "Martin Scorsese           12\n",
       "Jay Chapman               12\n",
       "Youssef Chahine           12\n",
       "Steven Spielberg          11\n",
       "Name: count, dtype: int64>"
      ]
     },
     "execution_count": 40,
     "metadata": {},
     "output_type": "execute_result"
    }
   ],
   "source": [
    "# Top 10 directors with the most movies\n",
    "topdirectors = df[df['type'] == \"Movie\"]['director'].value_counts().head(10)\n",
    "topdirectors.head"
   ]
  },
  {
   "cell_type": "code",
   "execution_count": 38,
   "id": "c13f2fea",
   "metadata": {},
   "outputs": [
    {
     "data": {
      "text/plain": [
       "country\n",
       "United States                                             2058\n",
       "India                                                      893\n",
       "Unknown                                                    440\n",
       "United Kingdom                                             206\n",
       "Canada                                                     122\n",
       "                                                          ... \n",
       "Germany, Canada, United States                               1\n",
       "Denmark, United Kingdom, South Africa, Sweden, Belgium       1\n",
       "Serbia, South Korea, Slovenia                                1\n",
       "United Kingdom, Spain, Belgium                               1\n",
       "United States, Canada, Japan, Panama                         1\n",
       "Name: count, Length: 652, dtype: int64"
      ]
     },
     "execution_count": 38,
     "metadata": {},
     "output_type": "execute_result"
    }
   ],
   "source": [
    "# Count how many movies per country (handle missing countries)\n",
    "df['country'] = df['country'].fillna('Unknown')\n",
    "\n",
    "movies_per_country = df[df['type'] == \"Movie\"]['country'].value_counts()\n",
    "movies_per_country\n"
   ]
  }
 ],
 "metadata": {
  "kernelspec": {
   "display_name": "venv",
   "language": "python",
   "name": "python3"
  },
  "language_info": {
   "codemirror_mode": {
    "name": "ipython",
    "version": 3
   },
   "file_extension": ".py",
   "mimetype": "text/x-python",
   "name": "python",
   "nbconvert_exporter": "python",
   "pygments_lexer": "ipython3",
   "version": "3.13.7"
  }
 },
 "nbformat": 4,
 "nbformat_minor": 5
}
